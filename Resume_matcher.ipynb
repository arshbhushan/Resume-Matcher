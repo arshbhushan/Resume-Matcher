{
  "nbformat": 4,
  "nbformat_minor": 0,
  "metadata": {
    "colab": {
      "provenance": [],
      "authorship_tag": "ABX9TyOseDmcEcJF+b+GHEFV+B+4",
      "include_colab_link": true
    },
    "kernelspec": {
      "name": "python3",
      "display_name": "Python 3"
    },
    "language_info": {
      "name": "python"
    }
  },
  "cells": [
    {
      "cell_type": "markdown",
      "metadata": {
        "id": "view-in-github",
        "colab_type": "text"
      },
      "source": [
        "<a href=\"https://colab.research.google.com/github/arshbhushan/Resume-Matcher/blob/main/Resume_matcher.ipynb\" target=\"_parent\"><img src=\"https://colab.research.google.com/assets/colab-badge.svg\" alt=\"Open In Colab\"/></a>"
      ]
    },
    {
      "cell_type": "code",
      "execution_count": null,
      "metadata": {
        "id": "mIbUs9ln9ul7",
        "colab": {
          "base_uri": "https://localhost:8080/"
        },
        "outputId": "36327266-4eb4-4f23-c6f5-46941c421280"
      },
      "outputs": [
        {
          "output_type": "stream",
          "name": "stdout",
          "text": [
            "Requirement already satisfied: docx2txt in /usr/local/lib/python3.11/dist-packages (0.8)\n"
          ]
        }
      ],
      "source": [
        "from flask import Flask,request,render_template\n",
        "import os\n",
        "!pip install docx2txt\n",
        "import docx2txt\n",
        "!pip install PyPDF2\n",
        "import PyPDF2\n",
        "from sklearn.feature_extraction.text import TfidfVectorizer\n",
        "from sklearn.metrics.pairwise import cosine_similarity"
      ]
    },
    {
      "cell_type": "code",
      "source": [
        "app = Flask(__name__)"
      ],
      "metadata": {
        "id": "31PwEWLkE43s"
      },
      "execution_count": null,
      "outputs": []
    },
    {
      "cell_type": "code",
      "source": [
        "# set the upload folder in order to save the uploaded files\n",
        "app.config['UPLOAD_FOLDER'] ='uploads/'"
      ],
      "metadata": {
        "id": "NzWPjFEhFLC1"
      },
      "execution_count": null,
      "outputs": []
    },
    {
      "cell_type": "code",
      "source": [
        "def extract_text_from_pdf(file_path):\n",
        "  text= \"\"\n",
        "  #open file in binary mode:\n",
        "  with open(file_path,'rb')as file:\n",
        "    reader= PyPDF2.PdfFileReader(file)\n",
        "\n",
        "    #extract the text from the pdf\n",
        "    for page in reader.pages:\n",
        "      text+= page.extract_text()\n",
        "\n",
        "  return text"
      ],
      "metadata": {
        "id": "D_QgrQbkFeFF"
      },
      "execution_count": null,
      "outputs": []
    },
    {
      "cell_type": "code",
      "source": [
        "# extract text from docx\n",
        "def extract_text_from_docx(file_path):\n",
        "    return docx2txt.process(file_path)"
      ],
      "metadata": {
        "id": "0eTBFkKvGNoH"
      },
      "execution_count": null,
      "outputs": []
    },
    {
      "cell_type": "code",
      "source": [
        "def extract_text_from_txt(file_path):\n",
        "  with open(file_path, 'r', encoding='utf-8') as file:\n",
        "    return file.read()"
      ],
      "metadata": {
        "id": "-B-nN8caHsCX"
      },
      "execution_count": null,
      "outputs": []
    },
    {
      "cell_type": "code",
      "source": [
        "#\n",
        "def extract_text(file_path):\n",
        "  if file_path.endswith('.pdf'):\n",
        "    return extract_text_from_pdf(file_path)\n",
        "\n",
        "  elif file_path.endswith('.docx'):\n",
        "    return extract_text_from_docx(file_path)\n",
        "\n",
        "  elif file_path.endswith('.txt'):\n",
        "    return extract_text_from_txt(file_path)\n",
        "\n",
        "  else:\n",
        "      return \"unable to read file, please check the format of the file.\""
      ],
      "metadata": {
        "id": "05vVnWsXGjNP"
      },
      "execution_count": null,
      "outputs": []
    },
    {
      "cell_type": "code",
      "source": [
        "@app.route(\"/\", endpoint='index') # Change endpoint to a unique name like 'index'\n",
        "def matchresume():\n",
        "  return render_template('index.html')"
      ],
      "metadata": {
        "id": "ACsAh4SXmnuh"
      },
      "execution_count": null,
      "outputs": []
    },
    {
      "cell_type": "code",
      "source": [
        "# route for handling the resume\n",
        "def matcher():\n",
        "  if request.method == 'POST':\n",
        "    job_description= request.form['job-description']\n",
        "    resume_files= request.files.getlist('resume')\n",
        "\n",
        "    resumes= []\n",
        "\n",
        "    for resume_file in resume_files:\n",
        "        filename= os.path.join(app.config['UPLOAD_FOLDER'], resume_file.filename)\n",
        "        resume_file.save(filename)\n",
        "        resumes.append(extract_text(filename))\n",
        "\n",
        "    #check for the availability of both the description of the job and resume\n",
        "    if not resumes or not job_description:\n",
        "        return render_template('index.html',message=\"Please upoad resume and enter job description.\")\n",
        "\n",
        "    # vectorise job_description\n",
        "    vectorizer= TfidfVectorizer().fit_transform([job_description]+resumes)\n",
        "    vectors= vectorizer.toarray()\n",
        "\n",
        "    #calculate cosin similarity for matching\n",
        "    job_vector= vectors[0]\n",
        "    resume_vectors= vectors[1:]\n",
        "\n",
        "    similarities= cosine_similarity([job_vector],resume_vectors)\n",
        "\n",
        "    # get to two results\n",
        "    top_indices=similarities.argsort()[-5:][::-1]\n",
        "    top_resume= [resume_files[i].filename for i in top_indices]\n",
        "    similarity_scores= [round(similarities[i],2) for i in top_indices]\n",
        "\n",
        "    return render_template('index.html',message=[\"Top matching resumes:\"],top_resume=top_resume,similarity_scores=similarity_scores)\n",
        "\n",
        "    #render the final template\n",
        "    return render_template('index.html',message=message,top_resume=top_resume,similarity_scores=similarity_scores)\n",
        "\n",
        "\n"
      ],
      "metadata": {
        "id": "yTeQ1u0DoJJM"
      },
      "execution_count": null,
      "outputs": []
    },
    {
      "cell_type": "code",
      "source": [
        "# run the app\n",
        "if __name__ == '__main__':\n",
        "  # check if the upload folder is created\n",
        "  if not os.path.exists(app.config['UPLOAD_FOLDER']):\n",
        "    os.makedirs(app.config['UPLOAD_FOLDER'])\n",
        "\n",
        "  app.run(debug=True)"
      ],
      "metadata": {
        "id": "nIcjZiYUtHBL"
      },
      "execution_count": null,
      "outputs": []
    }
  ]
}